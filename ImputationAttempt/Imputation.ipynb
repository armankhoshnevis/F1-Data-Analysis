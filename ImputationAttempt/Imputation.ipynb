{
 "cells": [
  {
   "cell_type": "code",
   "execution_count": 26,
   "metadata": {},
   "outputs": [],
   "source": [
    "import pandas as pd\n",
    "import plotly.express as px\n",
    "import os"
   ]
  },
  {
   "cell_type": "code",
   "execution_count": 27,
   "metadata": {},
   "outputs": [],
   "source": [
    "# Required load_data function\n",
    "def load_race_results_data():\n",
    "    \"\"\"Loads the race results data from CSV.\"\"\"\n",
    "    file_path = os.path.join(os.path.dirname(__name__), '..', 'Datasets', 'race_results.csv')\n",
    "    df = pd.read_csv(file_path)\n",
    "    df['constructorId'] = df['constructorId'].replace({'alphatauri': 'rb'})\n",
    "    discontinued_teams = ['toro_rosso', 'force_india', 'racing_point']\n",
    "    df = df[~df['constructorId'].isin(discontinued_teams)]\n",
    "    return df\n",
    "\n",
    "def load_race_schedule_data():\n",
    "    file_path = os.path.join(os.path.dirname(__name__), '..', 'Datasets', 'race_schedule.csv')\n",
    "    return pd.read_csv(file_path)\n",
    "\n",
    "def load_lap_times_data():\n",
    "    \"\"\"Loads the lap times data from concatenated CSV files.\"\"\"\n",
    "    file_paths = [f'../Datasets/lap_times_{year}.csv' for year in range(2017, 2025)]\n",
    "    dataframes = [pd.read_csv(file) for file in file_paths]\n",
    "    lap_times_df = pd.concat(dataframes, ignore_index=True)\n",
    "    return lap_times_df\n",
    "\n",
    "def convert_time_to_seconds(time_str):\n",
    "    \"\"\"Converts lap time from string format 'M:SS.mmm' to seconds.\"\"\"\n",
    "    minutes, seconds = time_str.split(':')\n",
    "    total_seconds = int(minutes) * 60 + float(seconds)\n",
    "    return total_seconds"
   ]
  },
  {
   "cell_type": "code",
   "execution_count": 28,
   "metadata": {},
   "outputs": [],
   "source": [
    "def impute_lap_times_mean_median(driver_id, season, round_num, df_lap_times, race_schedule, method='mean'):\n",
    "    \"\"\"Imputes missing lap times using mean or median imputation for a specific driver, season, and round.\"\"\"\n",
    "    \n",
    "    # Ensure the round number corresponds to the correct race name\n",
    "    race_name = race_schedule[(race_schedule['season'] == season) &\n",
    "                              (race_schedule['round'] == round_num)]['raceName'].values[0]\n",
    "    \n",
    "    # Collect historical lap times for the driver in the same race across all seasons\n",
    "    historical_lap_times = df_lap_times.merge(race_schedule[['season', 'round', 'raceName']], on=['season', 'round'])\n",
    "    historical_data = historical_lap_times[(historical_lap_times['driverId'] == driver_id) &\n",
    "                                           (historical_lap_times['raceName'] == race_name) &\n",
    "                                           (historical_lap_times['season'] < season)].copy()  # Make a copy here\n",
    "    \n",
    "    # Convert time to seconds\n",
    "    historical_data.loc[:, 'lap_time_seconds'] = historical_data['time'].apply(convert_time_to_seconds)\n",
    "    \n",
    "    # Filter out extreme lap times based on lower and upper percentiles\n",
    "    lower_limit = historical_data['lap_time_seconds'].quantile(0.01)\n",
    "    upper_limit = historical_data['lap_time_seconds'].quantile(0.99)\n",
    "    \n",
    "    filtered_data = historical_data[(historical_data['lap_time_seconds'] >= lower_limit) &\n",
    "                                    (historical_data['lap_time_seconds'] <= upper_limit)]\n",
    "    \n",
    "    # Determine the imputation value based on the selected method\n",
    "    if method == 'mean':\n",
    "        impute_value = filtered_data['lap_time_seconds'].mean()\n",
    "    elif method == 'median':\n",
    "        impute_value = filtered_data['lap_time_seconds'].median()\n",
    "    else:\n",
    "        raise ValueError(\"Invalid method specified. Use 'mean' or 'median'.\")\n",
    "    \n",
    "    # Get available lap times for the given race and driver\n",
    "    driver_lap_times = df_lap_times[(df_lap_times['driverId'] == driver_id) &\n",
    "                                    (df_lap_times['season'] == season) &\n",
    "                                    (df_lap_times['round'] == round_num)]\n",
    "    driver_lap_times = driver_lap_times.copy()\n",
    "    driver_lap_times.loc[:, 'lap_time_seconds'] = driver_lap_times['time'].apply(convert_time_to_seconds)\n",
    "    \n",
    "    max_laps_in_race = df_lap_times[(df_lap_times['season'] == season) &\n",
    "                                    (df_lap_times['round'] == round_num)]['lap'].max()\n",
    "    current_laps = driver_lap_times['lap'].unique()\n",
    "    missing_laps = sorted(set(range(1, max_laps_in_race + 1)) - set(current_laps))\n",
    "    \n",
    "    # Impute the missing laps with the chosen imputation value\n",
    "    imputed_laps = pd.DataFrame([{\n",
    "        'season': season,\n",
    "        'round': round_num,\n",
    "        'lap': lap,\n",
    "        'position': None,  # Position unknown for imputed laps\n",
    "        'driverId': driver_id,\n",
    "        'lap_time_seconds': impute_value\n",
    "    } for lap in missing_laps])\n",
    "    \n",
    "    # Combine the imputed laps with the existing lap times\n",
    "    combined_driver_lap_times = pd.concat([driver_lap_times, imputed_laps], ignore_index=True)\n",
    "    \n",
    "    return combined_driver_lap_times"
   ]
  },
  {
   "cell_type": "code",
   "execution_count": 29,
   "metadata": {},
   "outputs": [],
   "source": [
    "# Example\n",
    "driver_id = 'stroll'\n",
    "season = 2024\n",
    "round_num = 2\n",
    "df_lap_times = load_lap_times_data()\n",
    "df_race_results = load_race_results_data()\n",
    "race_schedule = load_race_schedule_data()\n",
    "df = impute_lap_times_mean_median(driver_id, season, round_num, df_lap_times, race_schedule, method='median')"
   ]
  },
  {
   "cell_type": "code",
   "execution_count": 30,
   "metadata": {},
   "outputs": [],
   "source": [
    "from statsmodels.tsa.arima.model import ARIMA\n",
    "\n",
    "def impute_lap_times_arima(driver_id, season, round_num, df_lap_times, df_race_results, race_schedule):\n",
    "    \"\"\"Imputes missing lap times based on a time series ARIMA model, with outlier filtering.\"\"\"\n",
    "    \n",
    "    # Get available lap times for the given race and driver\n",
    "    driver_lap_times = df_lap_times[(df_lap_times['driverId'] == driver_id) &\n",
    "                                    (df_lap_times['season'] == season) &\n",
    "                                    (df_lap_times['round'] == round_num)]\n",
    "    \n",
    "    max_laps_in_race = df_lap_times[(df_lap_times['season'] == season) &\n",
    "                                    (df_lap_times['round'] == round_num)]['lap'].max()\n",
    "    max_laps_for_driver = driver_lap_times['lap'].max()\n",
    "    \n",
    "    # Ensure the same Grand Prix in previous seasons\n",
    "    current_race_name = race_schedule[(race_schedule['season'] == season) &\n",
    "                                      (race_schedule['round'] == round_num)]['raceName'].values[0]\n",
    "    previous_lap_times = df_lap_times.merge(race_schedule[['season', 'round', 'raceName']], on=['season', 'round'])\n",
    "    previous_lap_times = previous_lap_times[(previous_lap_times['driverId'] == driver_id) &\n",
    "                                            (previous_lap_times['raceName'] == current_race_name) &\n",
    "                                            (previous_lap_times['season'] <= season)]\n",
    "    \n",
    "    # Convert time column to seconds\n",
    "    previous_lap_times['lap_time_seconds'] = previous_lap_times['time'].apply(convert_time_to_seconds)\n",
    "    \n",
    "    # Filter out extreme lap times based on lower and upper percentiles\n",
    "    lower_percentile = 1\n",
    "    upper_percentile = 99\n",
    "    lower_limit = previous_lap_times['lap_time_seconds'].quantile(lower_percentile / 100)\n",
    "    upper_limit = previous_lap_times['lap_time_seconds'].quantile(upper_percentile / 100)\n",
    "    \n",
    "    previous_lap_times_filtered = previous_lap_times[\n",
    "        (previous_lap_times['lap_time_seconds'] >= lower_limit) &\n",
    "        (previous_lap_times['lap_time_seconds'] <= upper_limit)\n",
    "    ]\n",
    "    \n",
    "    if max_laps_for_driver < max_laps_in_race and not previous_lap_times_filtered.empty:\n",
    "        available_lap_times = previous_lap_times['lap_time_seconds'].reset_index(drop=True)\n",
    "\n",
    "        # Train the ARIMA model (p, d, q) need tuning based on data\n",
    "        model = ARIMA(available_lap_times, order=(10, 1, 0))\n",
    "        model_fit = model.fit()\n",
    "\n",
    "        # Forecast the number of laps we are missing\n",
    "        n_forecasts = max_laps_in_race - max_laps_for_driver\n",
    "        forecasted_laps = model_fit.forecast(steps=n_forecasts)\n",
    "\n",
    "        # Impute the missing lap times\n",
    "        missing_laps = sorted(set(range(1, max_laps_in_race + 1)) - set(driver_lap_times['lap'].unique()))\n",
    "        imputed_laps = pd.DataFrame([{\n",
    "                'season': season,\n",
    "                'round': round_num,\n",
    "                'lap': lap,\n",
    "                'position': None,\n",
    "                'driverId': driver_id,\n",
    "                'lap_time_seconds': forecast\n",
    "            } for lap, forecast in zip(missing_laps, forecasted_laps)])\n",
    "\n",
    "        # Concatenate imputed laps with driver lap times\n",
    "        combined_driver_lap_times = pd.concat([driver_lap_times, imputed_laps], ignore_index=True)\n",
    "        # Concatenate the historical lap times with current and imputed lap times\n",
    "        final_combined_lap_times = pd.concat([previous_lap_times, combined_driver_lap_times], ignore_index=True)\n",
    "\n",
    "        return final_combined_lap_times\n",
    "\n",
    "    # If no imputation is needed or no historical data is available, return driver_lap_times and previous_lap_times combined\n",
    "    return pd.concat([previous_lap_times, driver_lap_times], ignore_index=True)"
   ]
  },
  {
   "cell_type": "code",
   "execution_count": 31,
   "metadata": {},
   "outputs": [
    {
     "data": {
      "application/vnd.plotly.v1+json": {
       "config": {
        "plotlyServerURL": "https://plot.ly"
       },
       "data": [
        {
         "hovertemplate": "Lap Number=%{x}<br>Lap Time (seconds)=%{y}<extra></extra>",
         "legendgroup": "",
         "marker": {
          "color": "#636efa",
          "symbol": "circle"
         },
         "mode": "markers",
         "name": "",
         "orientation": "v",
         "showlegend": false,
         "type": "scatter",
         "x": [
          0,
          1,
          2,
          3,
          4,
          5,
          6,
          7,
          8,
          9,
          10,
          11,
          12,
          13,
          14,
          15,
          16,
          17,
          18,
          19,
          20,
          21,
          22,
          23,
          24,
          25,
          26,
          27,
          28,
          29,
          30,
          31,
          32,
          33,
          34,
          35,
          36,
          37,
          38,
          39,
          40,
          41,
          42,
          43,
          44,
          45,
          46,
          47,
          48,
          49,
          50,
          51,
          52,
          53,
          54,
          55,
          56,
          57,
          58,
          59,
          60,
          61,
          62,
          63,
          64,
          65,
          66,
          67,
          68,
          69,
          70,
          71,
          72,
          73,
          74,
          75,
          76,
          77,
          78,
          79,
          80,
          81,
          82,
          83,
          84,
          85,
          86,
          87,
          88,
          89,
          90,
          91,
          92,
          93,
          94,
          95,
          96,
          97,
          98,
          99,
          100,
          101,
          102,
          103,
          104,
          105,
          106,
          107,
          108,
          109,
          110,
          111,
          112,
          113,
          114,
          115,
          116,
          117,
          118,
          119,
          120,
          121,
          122,
          123,
          124,
          125,
          126,
          127,
          128,
          129,
          130,
          131,
          132,
          133,
          134,
          135,
          136,
          137,
          138,
          139,
          140,
          141,
          142,
          143,
          144,
          145,
          146,
          147,
          148,
          149,
          150,
          151,
          152,
          153,
          154,
          155,
          156,
          157,
          158,
          159,
          160
         ],
         "xaxis": "x",
         "y": [
          106.17699999999999,
          99.25,
          99.26599999999999,
          95.852,
          96.551,
          95.825,
          95.818,
          95.907,
          102.354,
          147.675,
          142.383,
          164.326,
          204.891,
          199.187,
          125.491,
          97.049,
          95.575,
          95.12,
          94.76599999999999,
          94.699,
          115.61699999999999,
          109.205,
          94.708,
          94.727,
          110.281,
          95.382,
          123.542,
          124.984,
          126.64,
          118.181,
          94.041,
          93.569,
          110.932,
          93.96600000000001,
          95.178,
          93.36500000000001,
          93.65,
          93.381,
          93.32900000000001,
          93.223,
          93.075,
          93.70400000000001,
          93.35900000000001,
          93.483,
          93.018,
          92.844,
          93.565,
          103.828,
          98.731,
          97.586,
          97.575,
          97.87,
          97.422,
          97.27799999999999,
          97.282,
          97.799,
          98.223,
          99.149,
          98.36500000000001,
          101.85900000000001,
          116.297,
          97.836,
          126.144,
          126.975,
          150.078,
          154.042,
          139.202,
          98.809,
          97.787,
          96.685,
          96.241,
          96.287,
          96.38499999999999,
          96.195,
          96.209,
          96.024,
          95.839,
          95.449,
          95.431,
          95.663,
          95.161,
          95.15299999999999,
          95.315,
          95.48599999999999,
          124.891,
          126.48,
          109.721,
          94.68,
          94.81,
          95.32,
          95.205,
          95.191,
          94.446,
          94.48400000000001,
          122.768,
          98.205,
          99.093,
          96.324,
          95.239,
          95.56,
          95.471,
          95.551,
          95.14,
          95.616,
          96.118,
          95.443,
          95.512,
          96.52199999999999,
          98.543,
          114.305,
          96.262,
          96.485,
          102.429,
          96.094,
          95.78999999999999,
          95.735,
          95.56,
          98.80898276054582,
          96.47485503105867,
          98.1911762199857,
          99.29866275406266,
          97.66449264188456,
          97.30547282239921,
          97.61739987780355,
          97.02473659898212,
          96.91845389435103,
          97.01799543237873,
          96.68632702126541,
          96.57198497954063,
          97.0639214695434,
          97.09996408624086,
          97.32701276431362,
          97.47171099067289,
          97.30786679275901,
          97.22183174964361,
          97.1969418034688,
          97.12247579740419,
          97.11209948097938,
          97.11886192551728,
          97.07719259385523,
          97.0728442558673,
          97.11374374872685,
          97.1380768733402,
          97.17699308315468,
          97.19980216260323,
          97.18551243961723,
          97.16955571439247,
          97.15707383864861,
          97.14463563146042,
          97.14234803099106,
          97.14275396123416,
          97.13901297500783,
          97.13885100251854,
          97.14272017090512,
          97.14725446514365,
          97.15368229957411,
          97.1577848278495,
          97.1570605032975,
          97.15455167590939,
          97.15165413426364,
          97.14922942708485
         ],
         "yaxis": "y"
        }
       ],
       "layout": {
        "legend": {
         "tracegroupgap": 0
        },
        "template": {
         "data": {
          "bar": [
           {
            "error_x": {
             "color": "#2a3f5f"
            },
            "error_y": {
             "color": "#2a3f5f"
            },
            "marker": {
             "line": {
              "color": "#E5ECF6",
              "width": 0.5
             },
             "pattern": {
              "fillmode": "overlay",
              "size": 10,
              "solidity": 0.2
             }
            },
            "type": "bar"
           }
          ],
          "barpolar": [
           {
            "marker": {
             "line": {
              "color": "#E5ECF6",
              "width": 0.5
             },
             "pattern": {
              "fillmode": "overlay",
              "size": 10,
              "solidity": 0.2
             }
            },
            "type": "barpolar"
           }
          ],
          "carpet": [
           {
            "aaxis": {
             "endlinecolor": "#2a3f5f",
             "gridcolor": "white",
             "linecolor": "white",
             "minorgridcolor": "white",
             "startlinecolor": "#2a3f5f"
            },
            "baxis": {
             "endlinecolor": "#2a3f5f",
             "gridcolor": "white",
             "linecolor": "white",
             "minorgridcolor": "white",
             "startlinecolor": "#2a3f5f"
            },
            "type": "carpet"
           }
          ],
          "choropleth": [
           {
            "colorbar": {
             "outlinewidth": 0,
             "ticks": ""
            },
            "type": "choropleth"
           }
          ],
          "contour": [
           {
            "colorbar": {
             "outlinewidth": 0,
             "ticks": ""
            },
            "colorscale": [
             [
              0,
              "#0d0887"
             ],
             [
              0.1111111111111111,
              "#46039f"
             ],
             [
              0.2222222222222222,
              "#7201a8"
             ],
             [
              0.3333333333333333,
              "#9c179e"
             ],
             [
              0.4444444444444444,
              "#bd3786"
             ],
             [
              0.5555555555555556,
              "#d8576b"
             ],
             [
              0.6666666666666666,
              "#ed7953"
             ],
             [
              0.7777777777777778,
              "#fb9f3a"
             ],
             [
              0.8888888888888888,
              "#fdca26"
             ],
             [
              1,
              "#f0f921"
             ]
            ],
            "type": "contour"
           }
          ],
          "contourcarpet": [
           {
            "colorbar": {
             "outlinewidth": 0,
             "ticks": ""
            },
            "type": "contourcarpet"
           }
          ],
          "heatmap": [
           {
            "colorbar": {
             "outlinewidth": 0,
             "ticks": ""
            },
            "colorscale": [
             [
              0,
              "#0d0887"
             ],
             [
              0.1111111111111111,
              "#46039f"
             ],
             [
              0.2222222222222222,
              "#7201a8"
             ],
             [
              0.3333333333333333,
              "#9c179e"
             ],
             [
              0.4444444444444444,
              "#bd3786"
             ],
             [
              0.5555555555555556,
              "#d8576b"
             ],
             [
              0.6666666666666666,
              "#ed7953"
             ],
             [
              0.7777777777777778,
              "#fb9f3a"
             ],
             [
              0.8888888888888888,
              "#fdca26"
             ],
             [
              1,
              "#f0f921"
             ]
            ],
            "type": "heatmap"
           }
          ],
          "heatmapgl": [
           {
            "colorbar": {
             "outlinewidth": 0,
             "ticks": ""
            },
            "colorscale": [
             [
              0,
              "#0d0887"
             ],
             [
              0.1111111111111111,
              "#46039f"
             ],
             [
              0.2222222222222222,
              "#7201a8"
             ],
             [
              0.3333333333333333,
              "#9c179e"
             ],
             [
              0.4444444444444444,
              "#bd3786"
             ],
             [
              0.5555555555555556,
              "#d8576b"
             ],
             [
              0.6666666666666666,
              "#ed7953"
             ],
             [
              0.7777777777777778,
              "#fb9f3a"
             ],
             [
              0.8888888888888888,
              "#fdca26"
             ],
             [
              1,
              "#f0f921"
             ]
            ],
            "type": "heatmapgl"
           }
          ],
          "histogram": [
           {
            "marker": {
             "pattern": {
              "fillmode": "overlay",
              "size": 10,
              "solidity": 0.2
             }
            },
            "type": "histogram"
           }
          ],
          "histogram2d": [
           {
            "colorbar": {
             "outlinewidth": 0,
             "ticks": ""
            },
            "colorscale": [
             [
              0,
              "#0d0887"
             ],
             [
              0.1111111111111111,
              "#46039f"
             ],
             [
              0.2222222222222222,
              "#7201a8"
             ],
             [
              0.3333333333333333,
              "#9c179e"
             ],
             [
              0.4444444444444444,
              "#bd3786"
             ],
             [
              0.5555555555555556,
              "#d8576b"
             ],
             [
              0.6666666666666666,
              "#ed7953"
             ],
             [
              0.7777777777777778,
              "#fb9f3a"
             ],
             [
              0.8888888888888888,
              "#fdca26"
             ],
             [
              1,
              "#f0f921"
             ]
            ],
            "type": "histogram2d"
           }
          ],
          "histogram2dcontour": [
           {
            "colorbar": {
             "outlinewidth": 0,
             "ticks": ""
            },
            "colorscale": [
             [
              0,
              "#0d0887"
             ],
             [
              0.1111111111111111,
              "#46039f"
             ],
             [
              0.2222222222222222,
              "#7201a8"
             ],
             [
              0.3333333333333333,
              "#9c179e"
             ],
             [
              0.4444444444444444,
              "#bd3786"
             ],
             [
              0.5555555555555556,
              "#d8576b"
             ],
             [
              0.6666666666666666,
              "#ed7953"
             ],
             [
              0.7777777777777778,
              "#fb9f3a"
             ],
             [
              0.8888888888888888,
              "#fdca26"
             ],
             [
              1,
              "#f0f921"
             ]
            ],
            "type": "histogram2dcontour"
           }
          ],
          "mesh3d": [
           {
            "colorbar": {
             "outlinewidth": 0,
             "ticks": ""
            },
            "type": "mesh3d"
           }
          ],
          "parcoords": [
           {
            "line": {
             "colorbar": {
              "outlinewidth": 0,
              "ticks": ""
             }
            },
            "type": "parcoords"
           }
          ],
          "pie": [
           {
            "automargin": true,
            "type": "pie"
           }
          ],
          "scatter": [
           {
            "fillpattern": {
             "fillmode": "overlay",
             "size": 10,
             "solidity": 0.2
            },
            "type": "scatter"
           }
          ],
          "scatter3d": [
           {
            "line": {
             "colorbar": {
              "outlinewidth": 0,
              "ticks": ""
             }
            },
            "marker": {
             "colorbar": {
              "outlinewidth": 0,
              "ticks": ""
             }
            },
            "type": "scatter3d"
           }
          ],
          "scattercarpet": [
           {
            "marker": {
             "colorbar": {
              "outlinewidth": 0,
              "ticks": ""
             }
            },
            "type": "scattercarpet"
           }
          ],
          "scattergeo": [
           {
            "marker": {
             "colorbar": {
              "outlinewidth": 0,
              "ticks": ""
             }
            },
            "type": "scattergeo"
           }
          ],
          "scattergl": [
           {
            "marker": {
             "colorbar": {
              "outlinewidth": 0,
              "ticks": ""
             }
            },
            "type": "scattergl"
           }
          ],
          "scattermapbox": [
           {
            "marker": {
             "colorbar": {
              "outlinewidth": 0,
              "ticks": ""
             }
            },
            "type": "scattermapbox"
           }
          ],
          "scatterpolar": [
           {
            "marker": {
             "colorbar": {
              "outlinewidth": 0,
              "ticks": ""
             }
            },
            "type": "scatterpolar"
           }
          ],
          "scatterpolargl": [
           {
            "marker": {
             "colorbar": {
              "outlinewidth": 0,
              "ticks": ""
             }
            },
            "type": "scatterpolargl"
           }
          ],
          "scatterternary": [
           {
            "marker": {
             "colorbar": {
              "outlinewidth": 0,
              "ticks": ""
             }
            },
            "type": "scatterternary"
           }
          ],
          "surface": [
           {
            "colorbar": {
             "outlinewidth": 0,
             "ticks": ""
            },
            "colorscale": [
             [
              0,
              "#0d0887"
             ],
             [
              0.1111111111111111,
              "#46039f"
             ],
             [
              0.2222222222222222,
              "#7201a8"
             ],
             [
              0.3333333333333333,
              "#9c179e"
             ],
             [
              0.4444444444444444,
              "#bd3786"
             ],
             [
              0.5555555555555556,
              "#d8576b"
             ],
             [
              0.6666666666666666,
              "#ed7953"
             ],
             [
              0.7777777777777778,
              "#fb9f3a"
             ],
             [
              0.8888888888888888,
              "#fdca26"
             ],
             [
              1,
              "#f0f921"
             ]
            ],
            "type": "surface"
           }
          ],
          "table": [
           {
            "cells": {
             "fill": {
              "color": "#EBF0F8"
             },
             "line": {
              "color": "white"
             }
            },
            "header": {
             "fill": {
              "color": "#C8D4E3"
             },
             "line": {
              "color": "white"
             }
            },
            "type": "table"
           }
          ]
         },
         "layout": {
          "annotationdefaults": {
           "arrowcolor": "#2a3f5f",
           "arrowhead": 0,
           "arrowwidth": 1
          },
          "autotypenumbers": "strict",
          "coloraxis": {
           "colorbar": {
            "outlinewidth": 0,
            "ticks": ""
           }
          },
          "colorscale": {
           "diverging": [
            [
             0,
             "#8e0152"
            ],
            [
             0.1,
             "#c51b7d"
            ],
            [
             0.2,
             "#de77ae"
            ],
            [
             0.3,
             "#f1b6da"
            ],
            [
             0.4,
             "#fde0ef"
            ],
            [
             0.5,
             "#f7f7f7"
            ],
            [
             0.6,
             "#e6f5d0"
            ],
            [
             0.7,
             "#b8e186"
            ],
            [
             0.8,
             "#7fbc41"
            ],
            [
             0.9,
             "#4d9221"
            ],
            [
             1,
             "#276419"
            ]
           ],
           "sequential": [
            [
             0,
             "#0d0887"
            ],
            [
             0.1111111111111111,
             "#46039f"
            ],
            [
             0.2222222222222222,
             "#7201a8"
            ],
            [
             0.3333333333333333,
             "#9c179e"
            ],
            [
             0.4444444444444444,
             "#bd3786"
            ],
            [
             0.5555555555555556,
             "#d8576b"
            ],
            [
             0.6666666666666666,
             "#ed7953"
            ],
            [
             0.7777777777777778,
             "#fb9f3a"
            ],
            [
             0.8888888888888888,
             "#fdca26"
            ],
            [
             1,
             "#f0f921"
            ]
           ],
           "sequentialminus": [
            [
             0,
             "#0d0887"
            ],
            [
             0.1111111111111111,
             "#46039f"
            ],
            [
             0.2222222222222222,
             "#7201a8"
            ],
            [
             0.3333333333333333,
             "#9c179e"
            ],
            [
             0.4444444444444444,
             "#bd3786"
            ],
            [
             0.5555555555555556,
             "#d8576b"
            ],
            [
             0.6666666666666666,
             "#ed7953"
            ],
            [
             0.7777777777777778,
             "#fb9f3a"
            ],
            [
             0.8888888888888888,
             "#fdca26"
            ],
            [
             1,
             "#f0f921"
            ]
           ]
          },
          "colorway": [
           "#636efa",
           "#EF553B",
           "#00cc96",
           "#ab63fa",
           "#FFA15A",
           "#19d3f3",
           "#FF6692",
           "#B6E880",
           "#FF97FF",
           "#FECB52"
          ],
          "font": {
           "color": "#2a3f5f"
          },
          "geo": {
           "bgcolor": "white",
           "lakecolor": "white",
           "landcolor": "#E5ECF6",
           "showlakes": true,
           "showland": true,
           "subunitcolor": "white"
          },
          "hoverlabel": {
           "align": "left"
          },
          "hovermode": "closest",
          "mapbox": {
           "style": "light"
          },
          "paper_bgcolor": "white",
          "plot_bgcolor": "#E5ECF6",
          "polar": {
           "angularaxis": {
            "gridcolor": "white",
            "linecolor": "white",
            "ticks": ""
           },
           "bgcolor": "#E5ECF6",
           "radialaxis": {
            "gridcolor": "white",
            "linecolor": "white",
            "ticks": ""
           }
          },
          "scene": {
           "xaxis": {
            "backgroundcolor": "#E5ECF6",
            "gridcolor": "white",
            "gridwidth": 2,
            "linecolor": "white",
            "showbackground": true,
            "ticks": "",
            "zerolinecolor": "white"
           },
           "yaxis": {
            "backgroundcolor": "#E5ECF6",
            "gridcolor": "white",
            "gridwidth": 2,
            "linecolor": "white",
            "showbackground": true,
            "ticks": "",
            "zerolinecolor": "white"
           },
           "zaxis": {
            "backgroundcolor": "#E5ECF6",
            "gridcolor": "white",
            "gridwidth": 2,
            "linecolor": "white",
            "showbackground": true,
            "ticks": "",
            "zerolinecolor": "white"
           }
          },
          "shapedefaults": {
           "line": {
            "color": "#2a3f5f"
           }
          },
          "ternary": {
           "aaxis": {
            "gridcolor": "white",
            "linecolor": "white",
            "ticks": ""
           },
           "baxis": {
            "gridcolor": "white",
            "linecolor": "white",
            "ticks": ""
           },
           "bgcolor": "#E5ECF6",
           "caxis": {
            "gridcolor": "white",
            "linecolor": "white",
            "ticks": ""
           }
          },
          "title": {
           "x": 0.05
          },
          "xaxis": {
           "automargin": true,
           "gridcolor": "white",
           "linecolor": "white",
           "ticks": "",
           "title": {
            "standoff": 15
           },
           "zerolinecolor": "white",
           "zerolinewidth": 2
          },
          "yaxis": {
           "automargin": true,
           "gridcolor": "white",
           "linecolor": "white",
           "ticks": "",
           "title": {
            "standoff": 15
           },
           "zerolinecolor": "white",
           "zerolinewidth": 2
          }
         }
        },
        "title": {
         "text": "Lap Times Scatter Plot"
        },
        "xaxis": {
         "anchor": "y",
         "domain": [
          0,
          1
         ],
         "title": {
          "text": "Lap Number"
         }
        },
        "yaxis": {
         "anchor": "x",
         "domain": [
          0,
          1
         ],
         "title": {
          "text": "Lap Time (seconds)"
         }
        }
       }
      }
     },
     "metadata": {},
     "output_type": "display_data"
    }
   ],
   "source": [
    "# Example\n",
    "driver_id = 'stroll'\n",
    "season = 2024\n",
    "round_num = 2\n",
    "df_lap_times = load_lap_times_data()\n",
    "df_race_results = load_race_results_data()\n",
    "race_schedule = load_race_schedule_data()\n",
    "df = impute_lap_times_arima(driver_id, season, round_num, df_lap_times, df_race_results, race_schedule)\n",
    "\n",
    "lower_percentile=1\n",
    "upper_percentile=99\n",
    "\n",
    "lower_limit = df['lap_time_seconds'].quantile(lower_percentile / 100)\n",
    "upper_limit = df['lap_time_seconds'].quantile(upper_percentile / 100)\n",
    "\n",
    "df = df[\n",
    "        (df['lap_time_seconds'] >= lower_limit) &\n",
    "        (df['lap_time_seconds'] <= upper_limit)\n",
    "    ]\n",
    "\n",
    "x_values = pd.Series(range(len(df)))\n",
    "\n",
    "fig = px.scatter(df, x=x_values, y='lap_time_seconds',\n",
    "                 title='Lap Times Scatter Plot', labels={'x': 'Lap Number', 'lap_time_seconds': 'Lap Time (seconds)'})\n",
    "fig.show()"
   ]
  }
 ],
 "metadata": {
  "kernelspec": {
   "display_name": "FDS_Project",
   "language": "python",
   "name": "python3"
  },
  "language_info": {
   "codemirror_mode": {
    "name": "ipython",
    "version": 3
   },
   "file_extension": ".py",
   "mimetype": "text/x-python",
   "name": "python",
   "nbconvert_exporter": "python",
   "pygments_lexer": "ipython3",
   "version": "3.11.5"
  }
 },
 "nbformat": 4,
 "nbformat_minor": 2
}
